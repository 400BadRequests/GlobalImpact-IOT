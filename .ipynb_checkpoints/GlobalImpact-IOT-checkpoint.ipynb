{
 "cells": [
  {
   "cell_type": "markdown",
   "id": "fc816c90",
   "metadata": {},
   "source": [
    "## Importando Bibliotecas\n"
   ]
  },
  {
   "cell_type": "code",
   "execution_count": 40,
   "id": "309474fa",
   "metadata": {},
   "outputs": [],
   "source": [
    "import pandas as pd\n",
    "import matplotlib.pyplot as plt\n",
    "from sklearn.model_selection import train_test_split\n",
    "from sklearn.neighbors import KNeighborsClassifier\n",
    "from sklearn.metrics import accuracy_score\n",
    "from sklearn.svm import SVC\n",
    "from sklearn.metrics import classification_report\n",
    "%matplotlib inline"
   ]
  },
  {
   "cell_type": "markdown",
   "id": "cf2eeb8f",
   "metadata": {},
   "source": [
    "## Coletando Dataset"
   ]
  },
  {
   "cell_type": "code",
   "execution_count": 41,
   "id": "cf942068",
   "metadata": {},
   "outputs": [],
   "source": [
    "csv = pd.read_csv(\"dataset_tomate.csv\")"
   ]
  },
  {
   "cell_type": "markdown",
   "id": "b7573ddb",
   "metadata": {},
   "source": [
    "## Definindo pré processamento\n",
    "\n",
    "Optamos por remover a tabela \"id\" pois não alterava nada na relação entre os dados e o resultado.\n",
    "\n",
    "Entradas se refere aos dados e resist se refere as classes.\n",
    "\n",
    "Os algoritmos utilizados foram os dados e as classes."
   ]
  },
  {
   "cell_type": "code",
   "execution_count": 42,
   "id": "eee5a67d",
   "metadata": {},
   "outputs": [],
   "source": [
    "csv.drop(axis=1, columns=\"id\", inplace=True)"
   ]
  },
  {
   "cell_type": "code",
   "execution_count": 43,
   "id": "50228a16",
   "metadata": {},
   "outputs": [
    {
     "name": "stdout",
     "output_type": "stream",
     "text": [
      "Formato das tabelas de dados (132, 21) e classes (132, 1)\n"
     ]
    }
   ],
   "source": [
    "entradas = csv.iloc[:,list(range(0,21))]\n",
    "resist = csv.iloc[:,[-1]]\n",
    "print(f\"Formato das tabelas de dados {entradas.shape} e classes {resist.shape}\")"
   ]
  },
  {
   "cell_type": "markdown",
   "id": "ca055959",
   "metadata": {},
   "source": [
    "## Dividindo os dados em conjunto de teste e de treinamento\n",
    "\n",
    "Dividir nosso dataset em dois conjuntos de dados.\n",
    "    \n",
    "    Treinamento - Representa 80% das amostras do conjunto de dados original,\n",
    "    Teste - com 20% das amostras\n",
    "\n",
    "Escolhemos aleatoriamente algumas amostras do conjunto original. Utilizando a função ***train_test_split()*** da biblioteca Scikit-Learn"
   ]
  },
  {
   "cell_type": "code",
   "execution_count": 44,
   "id": "30ef2da4",
   "metadata": {},
   "outputs": [
    {
     "name": "stdout",
     "output_type": "stream",
     "text": [
      "Formato das tabelas de dados de treino (105, 21) e teste (27, 21)\n"
     ]
    }
   ],
   "source": [
    "entradas_treino, entradas_teste, resist_treino, resist_teste = train_test_split(entradas, resist, test_size=0.2)\n",
    "\n",
    "print(f\"Formato das tabelas de dados de treino {entradas_treino.shape} e teste {entradas_teste.shape}\")"
   ]
  },
  {
   "cell_type": "markdown",
   "id": "f2abb1d8",
   "metadata": {},
   "source": [
    "## Teste do treinamento"
   ]
  },
  {
   "cell_type": "code",
   "execution_count": 45,
   "id": "40625177",
   "metadata": {},
   "outputs": [
    {
     "data": {
      "text/html": [
       "<div>\n",
       "<style scoped>\n",
       "    .dataframe tbody tr th:only-of-type {\n",
       "        vertical-align: middle;\n",
       "    }\n",
       "\n",
       "    .dataframe tbody tr th {\n",
       "        vertical-align: top;\n",
       "    }\n",
       "\n",
       "    .dataframe thead th {\n",
       "        text-align: right;\n",
       "    }\n",
       "</style>\n",
       "<table border=\"1\" class=\"dataframe\">\n",
       "  <thead>\n",
       "    <tr style=\"text-align: right;\">\n",
       "      <th></th>\n",
       "      <th>trat</th>\n",
       "      <th>NDVI_d28</th>\n",
       "      <th>SAVI_d28</th>\n",
       "      <th>GNDVI_d28</th>\n",
       "      <th>MCARI1_d28</th>\n",
       "      <th>SR_d28</th>\n",
       "      <th>NDVI_d01</th>\n",
       "      <th>SAVI_d01</th>\n",
       "      <th>GNDVI_d01</th>\n",
       "      <th>MCARI1_d01</th>\n",
       "      <th>...</th>\n",
       "      <th>NDVI_d04</th>\n",
       "      <th>SAVI_d04</th>\n",
       "      <th>GNDVI_d04</th>\n",
       "      <th>MCARI1_d04</th>\n",
       "      <th>SR_d04</th>\n",
       "      <th>NDVI_d08</th>\n",
       "      <th>SAVI_d08</th>\n",
       "      <th>GNDVI_d08</th>\n",
       "      <th>MCARI1_d08</th>\n",
       "      <th>SR_d08</th>\n",
       "    </tr>\n",
       "  </thead>\n",
       "  <tbody>\n",
       "    <tr>\n",
       "      <th>48</th>\n",
       "      <td>202</td>\n",
       "      <td>0.799377</td>\n",
       "      <td>1.199020</td>\n",
       "      <td>0.693382</td>\n",
       "      <td>17129.30271</td>\n",
       "      <td>10.072983</td>\n",
       "      <td>0.774230</td>\n",
       "      <td>1.161319</td>\n",
       "      <td>0.714616</td>\n",
       "      <td>27768.22957</td>\n",
       "      <td>...</td>\n",
       "      <td>0.728377</td>\n",
       "      <td>1.092514</td>\n",
       "      <td>0.666508</td>\n",
       "      <td>12879.56336</td>\n",
       "      <td>6.660574</td>\n",
       "      <td>0.709964</td>\n",
       "      <td>1.064901</td>\n",
       "      <td>0.651379</td>\n",
       "      <td>13678.63166</td>\n",
       "      <td>6.070063</td>\n",
       "    </tr>\n",
       "    <tr>\n",
       "      <th>35</th>\n",
       "      <td>182</td>\n",
       "      <td>0.804871</td>\n",
       "      <td>1.207260</td>\n",
       "      <td>0.696463</td>\n",
       "      <td>17413.22192</td>\n",
       "      <td>10.392570</td>\n",
       "      <td>0.781653</td>\n",
       "      <td>1.172452</td>\n",
       "      <td>0.720054</td>\n",
       "      <td>29312.56728</td>\n",
       "      <td>...</td>\n",
       "      <td>0.740119</td>\n",
       "      <td>1.110126</td>\n",
       "      <td>0.680882</td>\n",
       "      <td>13337.09052</td>\n",
       "      <td>7.091800</td>\n",
       "      <td>0.725773</td>\n",
       "      <td>1.088616</td>\n",
       "      <td>0.664264</td>\n",
       "      <td>14561.50962</td>\n",
       "      <td>6.455969</td>\n",
       "    </tr>\n",
       "    <tr>\n",
       "      <th>92</th>\n",
       "      <td>313</td>\n",
       "      <td>0.772295</td>\n",
       "      <td>1.158398</td>\n",
       "      <td>0.660779</td>\n",
       "      <td>16576.00226</td>\n",
       "      <td>8.451015</td>\n",
       "      <td>0.761159</td>\n",
       "      <td>1.141716</td>\n",
       "      <td>0.698392</td>\n",
       "      <td>30414.40376</td>\n",
       "      <td>...</td>\n",
       "      <td>0.762963</td>\n",
       "      <td>1.144403</td>\n",
       "      <td>0.680934</td>\n",
       "      <td>17300.24789</td>\n",
       "      <td>7.793527</td>\n",
       "      <td>0.781829</td>\n",
       "      <td>1.172703</td>\n",
       "      <td>0.708424</td>\n",
       "      <td>18326.85650</td>\n",
       "      <td>8.472028</td>\n",
       "    </tr>\n",
       "    <tr>\n",
       "      <th>131</th>\n",
       "      <td>93</td>\n",
       "      <td>0.775178</td>\n",
       "      <td>1.162720</td>\n",
       "      <td>0.672198</td>\n",
       "      <td>15638.71500</td>\n",
       "      <td>8.715508</td>\n",
       "      <td>0.744265</td>\n",
       "      <td>1.116370</td>\n",
       "      <td>0.703834</td>\n",
       "      <td>24709.99277</td>\n",
       "      <td>...</td>\n",
       "      <td>0.714233</td>\n",
       "      <td>1.071300</td>\n",
       "      <td>0.663590</td>\n",
       "      <td>12466.88602</td>\n",
       "      <td>6.338209</td>\n",
       "      <td>0.715346</td>\n",
       "      <td>1.072979</td>\n",
       "      <td>0.648120</td>\n",
       "      <td>15801.33386</td>\n",
       "      <td>6.342296</td>\n",
       "    </tr>\n",
       "    <tr>\n",
       "      <th>63</th>\n",
       "      <td>24</td>\n",
       "      <td>0.779289</td>\n",
       "      <td>1.168890</td>\n",
       "      <td>0.670157</td>\n",
       "      <td>16834.23728</td>\n",
       "      <td>8.827935</td>\n",
       "      <td>0.751837</td>\n",
       "      <td>1.127733</td>\n",
       "      <td>0.700193</td>\n",
       "      <td>31228.22886</td>\n",
       "      <td>...</td>\n",
       "      <td>0.746427</td>\n",
       "      <td>1.119597</td>\n",
       "      <td>0.676138</td>\n",
       "      <td>17257.57430</td>\n",
       "      <td>7.469812</td>\n",
       "      <td>0.770279</td>\n",
       "      <td>1.155381</td>\n",
       "      <td>0.700685</td>\n",
       "      <td>19479.57938</td>\n",
       "      <td>8.204621</td>\n",
       "    </tr>\n",
       "  </tbody>\n",
       "</table>\n",
       "<p>5 rows × 21 columns</p>\n",
       "</div>"
      ],
      "text/plain": [
       "     trat  NDVI_d28  SAVI_d28  GNDVI_d28   MCARI1_d28     SR_d28  NDVI_d01  \\\n",
       "48    202  0.799377  1.199020   0.693382  17129.30271  10.072983  0.774230   \n",
       "35    182  0.804871  1.207260   0.696463  17413.22192  10.392570  0.781653   \n",
       "92    313  0.772295  1.158398   0.660779  16576.00226   8.451015  0.761159   \n",
       "131    93  0.775178  1.162720   0.672198  15638.71500   8.715508  0.744265   \n",
       "63     24  0.779289  1.168890   0.670157  16834.23728   8.827935  0.751837   \n",
       "\n",
       "     SAVI_d01  GNDVI_d01   MCARI1_d01  ...  NDVI_d04  SAVI_d04  GNDVI_d04  \\\n",
       "48   1.161319   0.714616  27768.22957  ...  0.728377  1.092514   0.666508   \n",
       "35   1.172452   0.720054  29312.56728  ...  0.740119  1.110126   0.680882   \n",
       "92   1.141716   0.698392  30414.40376  ...  0.762963  1.144403   0.680934   \n",
       "131  1.116370   0.703834  24709.99277  ...  0.714233  1.071300   0.663590   \n",
       "63   1.127733   0.700193  31228.22886  ...  0.746427  1.119597   0.676138   \n",
       "\n",
       "      MCARI1_d04    SR_d04  NDVI_d08  SAVI_d08  GNDVI_d08   MCARI1_d08  \\\n",
       "48   12879.56336  6.660574  0.709964  1.064901   0.651379  13678.63166   \n",
       "35   13337.09052  7.091800  0.725773  1.088616   0.664264  14561.50962   \n",
       "92   17300.24789  7.793527  0.781829  1.172703   0.708424  18326.85650   \n",
       "131  12466.88602  6.338209  0.715346  1.072979   0.648120  15801.33386   \n",
       "63   17257.57430  7.469812  0.770279  1.155381   0.700685  19479.57938   \n",
       "\n",
       "       SR_d08  \n",
       "48   6.070063  \n",
       "35   6.455969  \n",
       "92   8.472028  \n",
       "131  6.342296  \n",
       "63   8.204621  \n",
       "\n",
       "[5 rows x 21 columns]"
      ]
     },
     "execution_count": 45,
     "metadata": {},
     "output_type": "execute_result"
    }
   ],
   "source": [
    "entradas_treino.head()"
   ]
  },
  {
   "cell_type": "code",
   "execution_count": 46,
   "id": "c8ebb588",
   "metadata": {},
   "outputs": [
    {
     "data": {
      "text/html": [
       "<div>\n",
       "<style scoped>\n",
       "    .dataframe tbody tr th:only-of-type {\n",
       "        vertical-align: middle;\n",
       "    }\n",
       "\n",
       "    .dataframe tbody tr th {\n",
       "        vertical-align: top;\n",
       "    }\n",
       "\n",
       "    .dataframe thead th {\n",
       "        text-align: right;\n",
       "    }\n",
       "</style>\n",
       "<table border=\"1\" class=\"dataframe\">\n",
       "  <thead>\n",
       "    <tr style=\"text-align: right;\">\n",
       "      <th></th>\n",
       "      <th>Classe</th>\n",
       "    </tr>\n",
       "  </thead>\n",
       "  <tbody>\n",
       "    <tr>\n",
       "      <th>48</th>\n",
       "      <td>1</td>\n",
       "    </tr>\n",
       "    <tr>\n",
       "      <th>35</th>\n",
       "      <td>1</td>\n",
       "    </tr>\n",
       "    <tr>\n",
       "      <th>92</th>\n",
       "      <td>0</td>\n",
       "    </tr>\n",
       "    <tr>\n",
       "      <th>131</th>\n",
       "      <td>1</td>\n",
       "    </tr>\n",
       "    <tr>\n",
       "      <th>63</th>\n",
       "      <td>0</td>\n",
       "    </tr>\n",
       "  </tbody>\n",
       "</table>\n",
       "</div>"
      ],
      "text/plain": [
       "     Classe\n",
       "48        1\n",
       "35        1\n",
       "92        0\n",
       "131       1\n",
       "63        0"
      ]
     },
     "execution_count": 46,
     "metadata": {},
     "output_type": "execute_result"
    }
   ],
   "source": [
    "resist_treino.head()"
   ]
  },
  {
   "cell_type": "code",
   "execution_count": 47,
   "id": "7fd928a9",
   "metadata": {},
   "outputs": [
    {
     "name": "stderr",
     "output_type": "stream",
     "text": [
      "c:\\python39\\lib\\site-packages\\sklearn\\neighbors\\_classification.py:198: DataConversionWarning: A column-vector y was passed when a 1d array was expected. Please change the shape of y to (n_samples,), for example using ravel().\n",
      "  return self._fit(X, y)\n"
     ]
    },
    {
     "data": {
      "text/plain": [
       "KNeighborsClassifier(n_neighbors=9)"
      ]
     },
     "execution_count": 47,
     "metadata": {},
     "output_type": "execute_result"
    }
   ],
   "source": [
    "# Cria o classificar KNN\n",
    "k = 9\n",
    "modelo = KNeighborsClassifier(n_neighbors=k)\n",
    "\n",
    "# Cria o modelo de machine learning\n",
    "modelo.fit(entradas_treino, resist_treino)"
   ]
  },
  {
   "cell_type": "code",
   "execution_count": 48,
   "id": "0e62de82",
   "metadata": {},
   "outputs": [
    {
     "name": "stdout",
     "output_type": "stream",
     "text": [
      "Predição: [0 1 1 1 0 1 1 1 1 1 1 0 1 0 1 0 1 1 1 1 1 1 1 1 0 1 0]\n"
     ]
    }
   ],
   "source": [
    "# chamando o método predict() para obter as previsões\n",
    "resist_encontradas = modelo.predict(entradas_teste)\n",
    "print(\"Predição: {}\".format(resist_encontradas))"
   ]
  },
  {
   "cell_type": "markdown",
   "id": "166a6e4e",
   "metadata": {},
   "source": [
    "## Metrica \n",
    "\n",
    "A metrica que utlizamos para avaliar a performance do modelo criado foi a de acurácia, pois como ensinado em aula é a melhor maneira de definir a assertividade"
   ]
  },
  {
   "cell_type": "code",
   "execution_count": 49,
   "id": "642eab31",
   "metadata": {},
   "outputs": [
    {
     "name": "stdout",
     "output_type": "stream",
     "text": [
      "Media de acerto da classificação:  0.8888888888888888\n"
     ]
    }
   ],
   "source": [
    "accuracy = accuracy_score(resist_teste, resist_encontradas)\n",
    "print(\"Media de acerto da classificação: \", accuracy)"
   ]
  },
  {
   "cell_type": "code",
   "execution_count": 50,
   "id": "965a76f0",
   "metadata": {},
   "outputs": [
    {
     "name": "stdout",
     "output_type": "stream",
     "text": [
      "              precision    recall  f1-score   support\n",
      "\n",
      "           0       1.00      0.20      0.33        10\n",
      "           1       0.68      1.00      0.81        17\n",
      "\n",
      "    accuracy                           0.70        27\n",
      "   macro avg       0.84      0.60      0.57        27\n",
      "weighted avg       0.80      0.70      0.63        27\n",
      "\n"
     ]
    },
    {
     "name": "stderr",
     "output_type": "stream",
     "text": [
      "c:\\python39\\lib\\site-packages\\sklearn\\utils\\validation.py:985: DataConversionWarning: A column-vector y was passed when a 1d array was expected. Please change the shape of y to (n_samples, ), for example using ravel().\n",
      "  y = column_or_1d(y, warn=True)\n"
     ]
    }
   ],
   "source": [
    "svc_model= SVC()\n",
    "svc_model.fit(entradas_treino,resist_treino)\n",
    "resist_predict_svc= svc_model.predict(entradas_teste)\n",
    "print(classification_report(resist_teste,resist_predict_svc))"
   ]
  },
  {
   "cell_type": "code",
   "execution_count": null,
   "id": "27d00aae",
   "metadata": {},
   "outputs": [],
   "source": []
  }
 ],
 "metadata": {
  "kernelspec": {
   "display_name": "Python 3 (ipykernel)",
   "language": "python",
   "name": "python3"
  },
  "language_info": {
   "codemirror_mode": {
    "name": "ipython",
    "version": 3
   },
   "file_extension": ".py",
   "mimetype": "text/x-python",
   "name": "python",
   "nbconvert_exporter": "python",
   "pygments_lexer": "ipython3",
   "version": "3.9.5"
  }
 },
 "nbformat": 4,
 "nbformat_minor": 5
}
