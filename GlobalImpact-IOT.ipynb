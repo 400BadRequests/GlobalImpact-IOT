{
 "cells": [
  {
   "cell_type": "markdown",
   "id": "fc816c90",
   "metadata": {},
   "source": [
    "## Importando Bibliotecas\n"
   ]
  },
  {
   "cell_type": "code",
   "execution_count": 1,
   "id": "309474fa",
   "metadata": {},
   "outputs": [],
   "source": [
    "import pandas as pd\n",
    "import matplotlib.pyplot as plt\n",
    "from sklearn.model_selection import train_test_split\n",
    "from sklearn.neighbors import KNeighborsClassifier\n",
    "from sklearn.metrics import accuracy_score\n",
    "from sklearn.svm import SVC\n",
    "from sklearn.metrics import classification_report\n",
    "%matplotlib inline"
   ]
  },
  {
   "cell_type": "markdown",
   "id": "cf2eeb8f",
   "metadata": {},
   "source": [
    "## Coletando DataSet"
   ]
  },
  {
   "cell_type": "code",
   "execution_count": 2,
   "id": "cf942068",
   "metadata": {},
   "outputs": [],
   "source": [
    "csv = pd.read_csv(\"dataset_tomate.csv\")"
   ]
  },
  {
   "cell_type": "markdown",
   "id": "b7573ddb",
   "metadata": {},
   "source": [
    "## Definindo pré processamento"
   ]
  },
  {
   "cell_type": "code",
   "execution_count": 3,
   "id": "eee5a67d",
   "metadata": {},
   "outputs": [],
   "source": [
    "csv.drop(axis=1, columns=\"id\", inplace=True)"
   ]
  },
  {
   "cell_type": "code",
   "execution_count": 4,
   "id": "50228a16",
   "metadata": {},
   "outputs": [
    {
     "name": "stdout",
     "output_type": "stream",
     "text": [
      "Formato das tabelas de dados (132, 21) e classes (132, 1)\n"
     ]
    }
   ],
   "source": [
    "entradas = csv.iloc[:,list(range(0,21))]\n",
    "resist = csv.iloc[:,[-1]]\n",
    "print(f\"Formato das tabelas de dados {entradas.shape} e classes {resist.shape}\")"
   ]
  },
  {
   "cell_type": "markdown",
   "id": "ca055959",
   "metadata": {},
   "source": [
    "## Dividindo os dados em conjunto de treinamento e de testes"
   ]
  },
  {
   "cell_type": "code",
   "execution_count": 13,
   "id": "30ef2da4",
   "metadata": {},
   "outputs": [
    {
     "name": "stdout",
     "output_type": "stream",
     "text": [
      "Formato das tabelas de dados de treino (105, 21) e teste (27, 21)\n"
     ]
    }
   ],
   "source": [
    "entradas_treino, entradas_teste, resist_treino, resist_teste = train_test_split(entradas, resist, test_size=0.2)\n",
    "\n",
    "print(f\"Formato das tabelas de dados de treino {entradas_treino.shape} e teste {entradas_teste.shape}\")"
   ]
  },
  {
   "cell_type": "markdown",
   "id": "f2abb1d8",
   "metadata": {},
   "source": [
    "## Teste do treinamento"
   ]
  },
  {
   "cell_type": "code",
   "execution_count": 6,
   "id": "40625177",
   "metadata": {},
   "outputs": [
    {
     "data": {
      "text/html": [
       "<div>\n",
       "<style scoped>\n",
       "    .dataframe tbody tr th:only-of-type {\n",
       "        vertical-align: middle;\n",
       "    }\n",
       "\n",
       "    .dataframe tbody tr th {\n",
       "        vertical-align: top;\n",
       "    }\n",
       "\n",
       "    .dataframe thead th {\n",
       "        text-align: right;\n",
       "    }\n",
       "</style>\n",
       "<table border=\"1\" class=\"dataframe\">\n",
       "  <thead>\n",
       "    <tr style=\"text-align: right;\">\n",
       "      <th></th>\n",
       "      <th>trat</th>\n",
       "      <th>NDVI_d28</th>\n",
       "      <th>SAVI_d28</th>\n",
       "      <th>GNDVI_d28</th>\n",
       "      <th>MCARI1_d28</th>\n",
       "      <th>SR_d28</th>\n",
       "      <th>NDVI_d01</th>\n",
       "      <th>SAVI_d01</th>\n",
       "      <th>GNDVI_d01</th>\n",
       "      <th>MCARI1_d01</th>\n",
       "      <th>...</th>\n",
       "      <th>NDVI_d04</th>\n",
       "      <th>SAVI_d04</th>\n",
       "      <th>GNDVI_d04</th>\n",
       "      <th>MCARI1_d04</th>\n",
       "      <th>SR_d04</th>\n",
       "      <th>NDVI_d08</th>\n",
       "      <th>SAVI_d08</th>\n",
       "      <th>GNDVI_d08</th>\n",
       "      <th>MCARI1_d08</th>\n",
       "      <th>SR_d08</th>\n",
       "    </tr>\n",
       "  </thead>\n",
       "  <tbody>\n",
       "    <tr>\n",
       "      <th>42</th>\n",
       "      <td>203</td>\n",
       "      <td>0.825696</td>\n",
       "      <td>1.238498</td>\n",
       "      <td>0.716165</td>\n",
       "      <td>17929.59988</td>\n",
       "      <td>11.265616</td>\n",
       "      <td>0.791616</td>\n",
       "      <td>1.187398</td>\n",
       "      <td>0.732857</td>\n",
       "      <td>30116.19456</td>\n",
       "      <td>...</td>\n",
       "      <td>0.731560</td>\n",
       "      <td>1.097287</td>\n",
       "      <td>0.667511</td>\n",
       "      <td>12398.74121</td>\n",
       "      <td>6.649066</td>\n",
       "      <td>0.699504</td>\n",
       "      <td>1.049210</td>\n",
       "      <td>0.650380</td>\n",
       "      <td>12635.83173</td>\n",
       "      <td>5.762495</td>\n",
       "    </tr>\n",
       "    <tr>\n",
       "      <th>97</th>\n",
       "      <td>314</td>\n",
       "      <td>0.790792</td>\n",
       "      <td>1.186142</td>\n",
       "      <td>0.680645</td>\n",
       "      <td>17024.83605</td>\n",
       "      <td>9.576516</td>\n",
       "      <td>0.777486</td>\n",
       "      <td>1.166205</td>\n",
       "      <td>0.713292</td>\n",
       "      <td>32975.21484</td>\n",
       "      <td>...</td>\n",
       "      <td>0.774107</td>\n",
       "      <td>1.161120</td>\n",
       "      <td>0.693496</td>\n",
       "      <td>18437.18073</td>\n",
       "      <td>8.457086</td>\n",
       "      <td>0.790111</td>\n",
       "      <td>1.185127</td>\n",
       "      <td>0.716148</td>\n",
       "      <td>18904.87543</td>\n",
       "      <td>9.028474</td>\n",
       "    </tr>\n",
       "    <tr>\n",
       "      <th>8</th>\n",
       "      <td>111</td>\n",
       "      <td>0.790080</td>\n",
       "      <td>1.185074</td>\n",
       "      <td>0.683249</td>\n",
       "      <td>16212.71937</td>\n",
       "      <td>9.193788</td>\n",
       "      <td>0.741140</td>\n",
       "      <td>1.111679</td>\n",
       "      <td>0.703304</td>\n",
       "      <td>21842.74825</td>\n",
       "      <td>...</td>\n",
       "      <td>0.710367</td>\n",
       "      <td>1.065501</td>\n",
       "      <td>0.653622</td>\n",
       "      <td>13079.29736</td>\n",
       "      <td>6.154164</td>\n",
       "      <td>0.711068</td>\n",
       "      <td>1.066559</td>\n",
       "      <td>0.649362</td>\n",
       "      <td>14597.79894</td>\n",
       "      <td>6.153231</td>\n",
       "    </tr>\n",
       "    <tr>\n",
       "      <th>49</th>\n",
       "      <td>193</td>\n",
       "      <td>0.669378</td>\n",
       "      <td>1.004018</td>\n",
       "      <td>0.567408</td>\n",
       "      <td>11005.35580</td>\n",
       "      <td>5.170459</td>\n",
       "      <td>0.666991</td>\n",
       "      <td>1.000461</td>\n",
       "      <td>0.610935</td>\n",
       "      <td>20085.95433</td>\n",
       "      <td>...</td>\n",
       "      <td>0.673823</td>\n",
       "      <td>1.010686</td>\n",
       "      <td>0.594705</td>\n",
       "      <td>11221.62231</td>\n",
       "      <td>5.266138</td>\n",
       "      <td>0.720295</td>\n",
       "      <td>1.080400</td>\n",
       "      <td>0.621676</td>\n",
       "      <td>15088.01072</td>\n",
       "      <td>6.391030</td>\n",
       "    </tr>\n",
       "    <tr>\n",
       "      <th>30</th>\n",
       "      <td>163</td>\n",
       "      <td>0.760046</td>\n",
       "      <td>1.140018</td>\n",
       "      <td>0.671142</td>\n",
       "      <td>14121.69149</td>\n",
       "      <td>8.311702</td>\n",
       "      <td>0.761772</td>\n",
       "      <td>1.142632</td>\n",
       "      <td>0.709033</td>\n",
       "      <td>27806.86002</td>\n",
       "      <td>...</td>\n",
       "      <td>0.746825</td>\n",
       "      <td>1.120187</td>\n",
       "      <td>0.680061</td>\n",
       "      <td>14132.96383</td>\n",
       "      <td>7.311564</td>\n",
       "      <td>0.783435</td>\n",
       "      <td>1.175108</td>\n",
       "      <td>0.706289</td>\n",
       "      <td>17621.19398</td>\n",
       "      <td>8.720015</td>\n",
       "    </tr>\n",
       "  </tbody>\n",
       "</table>\n",
       "<p>5 rows × 21 columns</p>\n",
       "</div>"
      ],
      "text/plain": [
       "    trat  NDVI_d28  SAVI_d28  GNDVI_d28   MCARI1_d28     SR_d28  NDVI_d01  \\\n",
       "42   203  0.825696  1.238498   0.716165  17929.59988  11.265616  0.791616   \n",
       "97   314  0.790792  1.186142   0.680645  17024.83605   9.576516  0.777486   \n",
       "8    111  0.790080  1.185074   0.683249  16212.71937   9.193788  0.741140   \n",
       "49   193  0.669378  1.004018   0.567408  11005.35580   5.170459  0.666991   \n",
       "30   163  0.760046  1.140018   0.671142  14121.69149   8.311702  0.761772   \n",
       "\n",
       "    SAVI_d01  GNDVI_d01   MCARI1_d01  ...  NDVI_d04  SAVI_d04  GNDVI_d04  \\\n",
       "42  1.187398   0.732857  30116.19456  ...  0.731560  1.097287   0.667511   \n",
       "97  1.166205   0.713292  32975.21484  ...  0.774107  1.161120   0.693496   \n",
       "8   1.111679   0.703304  21842.74825  ...  0.710367  1.065501   0.653622   \n",
       "49  1.000461   0.610935  20085.95433  ...  0.673823  1.010686   0.594705   \n",
       "30  1.142632   0.709033  27806.86002  ...  0.746825  1.120187   0.680061   \n",
       "\n",
       "     MCARI1_d04    SR_d04  NDVI_d08  SAVI_d08  GNDVI_d08   MCARI1_d08  \\\n",
       "42  12398.74121  6.649066  0.699504  1.049210   0.650380  12635.83173   \n",
       "97  18437.18073  8.457086  0.790111  1.185127   0.716148  18904.87543   \n",
       "8   13079.29736  6.154164  0.711068  1.066559   0.649362  14597.79894   \n",
       "49  11221.62231  5.266138  0.720295  1.080400   0.621676  15088.01072   \n",
       "30  14132.96383  7.311564  0.783435  1.175108   0.706289  17621.19398   \n",
       "\n",
       "      SR_d08  \n",
       "42  5.762495  \n",
       "97  9.028474  \n",
       "8   6.153231  \n",
       "49  6.391030  \n",
       "30  8.720015  \n",
       "\n",
       "[5 rows x 21 columns]"
      ]
     },
     "execution_count": 6,
     "metadata": {},
     "output_type": "execute_result"
    }
   ],
   "source": [
    "entradas_treino.head()"
   ]
  },
  {
   "cell_type": "code",
   "execution_count": 7,
   "id": "c8ebb588",
   "metadata": {},
   "outputs": [
    {
     "data": {
      "text/html": [
       "<div>\n",
       "<style scoped>\n",
       "    .dataframe tbody tr th:only-of-type {\n",
       "        vertical-align: middle;\n",
       "    }\n",
       "\n",
       "    .dataframe tbody tr th {\n",
       "        vertical-align: top;\n",
       "    }\n",
       "\n",
       "    .dataframe thead th {\n",
       "        text-align: right;\n",
       "    }\n",
       "</style>\n",
       "<table border=\"1\" class=\"dataframe\">\n",
       "  <thead>\n",
       "    <tr style=\"text-align: right;\">\n",
       "      <th></th>\n",
       "      <th>Classe</th>\n",
       "    </tr>\n",
       "  </thead>\n",
       "  <tbody>\n",
       "    <tr>\n",
       "      <th>42</th>\n",
       "      <td>1</td>\n",
       "    </tr>\n",
       "    <tr>\n",
       "      <th>97</th>\n",
       "      <td>0</td>\n",
       "    </tr>\n",
       "    <tr>\n",
       "      <th>8</th>\n",
       "      <td>1</td>\n",
       "    </tr>\n",
       "    <tr>\n",
       "      <th>49</th>\n",
       "      <td>0</td>\n",
       "    </tr>\n",
       "    <tr>\n",
       "      <th>30</th>\n",
       "      <td>0</td>\n",
       "    </tr>\n",
       "  </tbody>\n",
       "</table>\n",
       "</div>"
      ],
      "text/plain": [
       "    Classe\n",
       "42       1\n",
       "97       0\n",
       "8        1\n",
       "49       0\n",
       "30       0"
      ]
     },
     "execution_count": 7,
     "metadata": {},
     "output_type": "execute_result"
    }
   ],
   "source": [
    "resist_treino.head()"
   ]
  },
  {
   "cell_type": "code",
   "execution_count": 8,
   "id": "7fd928a9",
   "metadata": {},
   "outputs": [
    {
     "name": "stderr",
     "output_type": "stream",
     "text": [
      "c:\\python39\\lib\\site-packages\\sklearn\\neighbors\\_classification.py:198: DataConversionWarning: A column-vector y was passed when a 1d array was expected. Please change the shape of y to (n_samples,), for example using ravel().\n",
      "  return self._fit(X, y)\n"
     ]
    },
    {
     "data": {
      "text/plain": [
       "KNeighborsClassifier(n_neighbors=9)"
      ]
     },
     "execution_count": 8,
     "metadata": {},
     "output_type": "execute_result"
    }
   ],
   "source": [
    "# Cria o classificar KNN\n",
    "k = 9\n",
    "modelo = KNeighborsClassifier(n_neighbors=k)\n",
    "\n",
    "# Cria o modelo de machine learning\n",
    "modelo.fit(entradas_treino, resist_treino)"
   ]
  },
  {
   "cell_type": "code",
   "execution_count": 9,
   "id": "0e62de82",
   "metadata": {},
   "outputs": [
    {
     "name": "stdout",
     "output_type": "stream",
     "text": [
      "Predição: [1 1 0 0 1 1 0 1 1 0 1 1 0 1 1 0 1 1 1 0 1 0 1 1 1 1 1]\n"
     ]
    }
   ],
   "source": [
    "# chamando o método predict() para obter as previsões\n",
    "resist_encontradas = modelo.predict(entradas_teste)\n",
    "print(\"Predição: {}\".format(resist_encontradas))"
   ]
  },
  {
   "cell_type": "code",
   "execution_count": 10,
   "id": "642eab31",
   "metadata": {},
   "outputs": [
    {
     "name": "stdout",
     "output_type": "stream",
     "text": [
      "Acerto médio de classificação:  0.9259259259259259\n"
     ]
    }
   ],
   "source": [
    "accuracy = accuracy_score(resist_teste, resist_encontradas)\n",
    "print(\"Media de acerto da classificação: \", accuracy)"
   ]
  },
  {
   "cell_type": "code",
   "execution_count": 11,
   "id": "965a76f0",
   "metadata": {},
   "outputs": [
    {
     "name": "stdout",
     "output_type": "stream",
     "text": [
      "              precision    recall  f1-score   support\n",
      "\n",
      "           0       1.00      0.38      0.55         8\n",
      "           1       0.79      1.00      0.88        19\n",
      "\n",
      "    accuracy                           0.81        27\n",
      "   macro avg       0.90      0.69      0.71        27\n",
      "weighted avg       0.85      0.81      0.78        27\n",
      "\n"
     ]
    },
    {
     "name": "stderr",
     "output_type": "stream",
     "text": [
      "c:\\python39\\lib\\site-packages\\sklearn\\utils\\validation.py:985: DataConversionWarning: A column-vector y was passed when a 1d array was expected. Please change the shape of y to (n_samples, ), for example using ravel().\n",
      "  y = column_or_1d(y, warn=True)\n"
     ]
    }
   ],
   "source": [
    "svc_model= SVC()\n",
    "svc_model.fit(entradas_treino,resist_treino)\n",
    "resist_predict_svc= svc_model.predict(entradas_teste)\n",
    "print(classification_report(resist_teste,resist_predict_svc))"
   ]
  },
  {
   "cell_type": "code",
   "execution_count": null,
   "id": "8edd9af6",
   "metadata": {},
   "outputs": [],
   "source": []
  }
 ],
 "metadata": {
  "kernelspec": {
   "display_name": "Python 3 (ipykernel)",
   "language": "python",
   "name": "python3"
  },
  "language_info": {
   "codemirror_mode": {
    "name": "ipython",
    "version": 3
   },
   "file_extension": ".py",
   "mimetype": "text/x-python",
   "name": "python",
   "nbconvert_exporter": "python",
   "pygments_lexer": "ipython3",
   "version": "3.9.5"
  }
 },
 "nbformat": 4,
 "nbformat_minor": 5
}
